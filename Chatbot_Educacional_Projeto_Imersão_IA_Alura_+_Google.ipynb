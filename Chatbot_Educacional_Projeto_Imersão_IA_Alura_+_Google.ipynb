{
  "nbformat": 4,
  "nbformat_minor": 0,
  "metadata": {
    "colab": {
      "provenance": [],
      "authorship_tag": "ABX9TyPodEh6c1+2ezHMUMyC6/5M",
      "include_colab_link": true
    },
    "kernelspec": {
      "name": "python3",
      "display_name": "Python 3"
    },
    "language_info": {
      "name": "python"
    }
  },
  "cells": [
    {
      "cell_type": "markdown",
      "metadata": {
        "id": "view-in-github",
        "colab_type": "text"
      },
      "source": [
        "<a href=\"https://colab.research.google.com/github/ilanaalc/imersao-ia-alura-google/blob/main/Chatbot_Educacional_Projeto_Imers%C3%A3o_IA_Alura_%2B_Google.ipynb\" target=\"_parent\"><img src=\"https://colab.research.google.com/assets/colab-badge.svg\" alt=\"Open In Colab\"/></a>"
      ]
    },
    {
      "cell_type": "code",
      "execution_count": 129,
      "metadata": {
        "id": "1Blo2CeEzXgL"
      },
      "outputs": [],
      "source": [
        "!pip install -q -U google-generativeai"
      ]
    },
    {
      "cell_type": "code",
      "source": [
        "import google.generativeai as genai\n",
        "from google.colab import userdata\n",
        "\n",
        "#Configurando API KEY\n",
        "api_key = userdata.get(\"SECRET_KEY\")\n",
        "genai.configure(api_key=api_key)"
      ],
      "metadata": {
        "id": "ZMPPFaiPzYjQ"
      },
      "execution_count": 130,
      "outputs": []
    },
    {
      "cell_type": "code",
      "source": [],
      "metadata": {
        "id": "Otj6VGL5sMHT"
      },
      "execution_count": null,
      "outputs": []
    },
    {
      "cell_type": "code",
      "source": [
        "#Configurando o Modelo\n",
        "generation_config = {\n",
        "    'candidate_count': 1,\n",
        "    'temperature': 0.5,\n",
        "}\n",
        "\n",
        "safety_settings = {\n",
        "    \"HARASSMENT\": \"BLOCK_NONE\",\n",
        "    \"HATE\": \"BLOCK_NONE\",\n",
        "    \"SEXUAL\": \"BLOCK_NONE\",\n",
        "    \"DANGEROUS\": \"BLOCK_NONE\",\n",
        "}"
      ],
      "metadata": {
        "id": "y3tI21CRNd30"
      },
      "execution_count": 131,
      "outputs": []
    },
    {
      "cell_type": "code",
      "source": [
        "#Inicializando o Modelo\n",
        "model = genai.GenerativeModel(model_name=\"gemini-1.0-pro\",\n",
        "                             generation_config=generation_config,\n",
        "                             safety_settings=safety_settings)"
      ],
      "metadata": {
        "id": "z7mI5yT2zaNn"
      },
      "execution_count": 132,
      "outputs": []
    },
    {
      "cell_type": "code",
      "source": [
        "#Melhorando a visualização\n",
        "import textwrap\n",
        "from IPython.display import display\n",
        "from IPython.display import Markdown\n",
        "\n",
        "\n",
        "def to_markdown(text):\n",
        "  text = text.replace('•', '  *')\n",
        "  return Markdown(textwrap.indent(text, '> ', predicate=lambda _: True))"
      ],
      "metadata": {
        "id": "FhvHnLTnifmU"
      },
      "execution_count": 133,
      "outputs": []
    },
    {
      "cell_type": "code",
      "source": [
        "#Iniciando o Chatbot Educacional\n",
        "\n",
        "print(\"*Seja bem-vindo ao Chatbot Educacional!*\")\n",
        "print(\"**Aqui você pode saber mais sobre o conteúdo que você deseja estudar com uma experiência totalmente personalizada.***\\n\")\n",
        "\n",
        "#Criando função que disponibiliza as opções do Chatbot Educacional para o usuário\n",
        "def escolha_sua_opcao():\n",
        "    options = {\n",
        "        \"1\": \"Saber mais sobre determinado conteúdo\",\n",
        "        \"2\": \"Tirar dúvidas\",\n",
        "        \"3\": \"Criar exercícios personalizados\",\n",
        "        \"0\": \"Sair\\n\"\n",
        "    }\n",
        "\n",
        "    print(\"Escolha uma opção:\")\n",
        "    for key, value in options.items():\n",
        "        print(f\"{key}: {value}\")\n",
        "\n",
        "    while True:\n",
        "        escolha = input(\"\\nO que você deseja fazer agora? \")\n",
        "        if escolha in options:\n",
        "            if escolha == \"1\":\n",
        "                explorar_conteudos()\n",
        "            elif escolha == \"2\":\n",
        "                tirar_duvidas()\n",
        "            elif escolha == \"3\":\n",
        "                criar_exercicios()\n",
        "            elif escolha == \"0\":\n",
        "                print(\"\\nObrigado por usar o Chatbot Educacional. Até mais e bons estudos!\")\n",
        "                break\n",
        "        else:\n",
        "            print(\"\\nOpção inválida. Por favor, escolha uma opção válida.\")\n",
        "\n",
        "#Função que solicita a busca dos assuntos sobre a área de conhecimento, conteúdo e nivel de conhecimento de acordo com os dados informados pelo usuário\n",
        "def explorar_conteudos():\n",
        "\n",
        "    area_de_conhecimento = input (\"\\nQual a área de conhecimento que você deseja explorar? \")\n",
        "    conteudo = input (\"\\nInforme o conteúdo que deseja saber mais: \")\n",
        "    nivel_de_conhecimento = input (\"\\nQual o seu nível de conhecimento (Iniciante - Junior - Pleno - Senior)? \")\n",
        "\n",
        "    response = model.generate_content(f\"Faça uma busca sobre a área de conhecimento {area_de_conhecimento} relacionada ao conteúdo {conteudo} para uma pessoa que tem o nível de conhecimento {nivel_de_conhecimento} e deseja saber mais sobre os assuntos.\")\n",
        "    print(\"\\n\\n---Com base nas suas informações, você pode explorar os seguintes temas:---\\n\\n\", response.text, \"\\n\\n\\n\")\n",
        "\n",
        "    pass\n",
        "\n",
        "\n",
        "#Função que solicita a resposta de dúvidas feitas pelo o usuário\n",
        "def tirar_duvidas():\n",
        "\n",
        "    duvida = input (\"\\n\\nQual a sua dúvida? \")\n",
        "\n",
        "    response = model.generate_content(f\"Responda a seguinte dúvida {duvida}\")\n",
        "    print(f\"\\nResposta: \", response.text, \"\\n\")\n",
        "\n",
        "    pass\n",
        "\n",
        "#Função que solicita a criação de exercícios de acordo com o conteúdo, nível de dificuldade e quantidade solicitada pelo o usuário\n",
        "def criar_exercicios():\n",
        "\n",
        "    exercicio_conteudo = input (\"\\nInforme o conteúdo que você deseja praticar: \")\n",
        "    quantidade_exercicios = input (\"\\nQual a quantidade de questões que você deseja praticar? \")\n",
        "    nivel_exercicios = input (\"\\nQual o nível de dificuldade do exercício que você deseja praticar? (Fácil - Médio - Difícil? \")\n",
        "\n",
        "    response = model.generate_content(f\"Monte uma lista de exercícios com base no conteúdo {exercicio_conteudo}, com uma quantidade de {quantidade_exercicios} questões e um nível de dificuldade {nivel_exercicios}.\")\n",
        "    print(f\"\\n\\n---Segue a sua Lista de Exercícios----\\n\\n\", response.text, \"\\n\\n-----Bons Estudos!-----\\n\\n\")\n",
        "    pass\n",
        "\n",
        "escolha_sua_opcao() #Finalizando a execução das funções que disponibiliza as opções para o usuário do Chatbot Educacional"
      ],
      "metadata": {
        "colab": {
          "base_uri": "https://localhost:8080/",
          "height": 1000
        },
        "id": "LySZV1se0Fsk",
        "outputId": "c5070923-1503-4108-c674-89a624cfa46f"
      },
      "execution_count": 135,
      "outputs": [
        {
          "output_type": "stream",
          "name": "stdout",
          "text": [
            "*Seja bem-vindo ao Chatbot Educacional!*\n",
            "**Aqui você pode saber mais sobre o conteúdo que você deseja estudar com uma experiência totalmente personalizada.***\n",
            "\n",
            "Escolha uma opção:\n",
            "1: Saber mais sobre determinado conteúdo\n",
            "2: Tirar dúvidas\n",
            "3: Criar exercícios personalizados\n",
            "0: Sair\n",
            "\n",
            "\n",
            "O que você deseja fazer agora? 1\n",
            "\n",
            "Qual a área de conhecimento que você deseja explorar? Front-End\n",
            "\n",
            "Informe o conteúdo que deseja saber mais: HTML\n",
            "\n",
            "Qual o seu nível de conhecimento (Iniciante - Junior - Pleno - Senior)? Iniciante\n",
            "\n",
            "\n",
            "---Com base nas suas informações, você pode explorar os seguintes temas:---\n",
            "\n",
            " **Introdução ao HTML para Iniciantes**\n",
            "\n",
            "**Conceitos Básicos**\n",
            "\n",
            "* O que é HTML?\n",
            "* Estrutura de um documento HTML\n",
            "* Elementos HTML comuns\n",
            "* Atributos HTML\n",
            "\n",
            "**Formatação de Texto**\n",
            "\n",
            "* Cabeçalhos (<h1>, <h2>, etc.)\n",
            "* Parágrafos (<p>)\n",
            "* Listas (<ul>, <ol>)\n",
            "* Links (<a>)\n",
            "\n",
            "**Inserção de Mídia**\n",
            "\n",
            "* Imagens (<img>)\n",
            "* Vídeos (<video>)\n",
            "* Áudio (<audio>)\n",
            "\n",
            "**Tabelas e Formulários**\n",
            "\n",
            "* Criando tabelas (<table>)\n",
            "* Criando formulários (<form>)\n",
            "* Campos de entrada (<input>)\n",
            "\n",
            "**Estilo Básico**\n",
            "\n",
            "* Introdução ao CSS\n",
            "* Seletores CSS\n",
            "* Propriedades CSS comuns\n",
            "* Estilização de elementos HTML\n",
            "\n",
            "**Recursos para Iniciantes**\n",
            "\n",
            "* [HTML Tutorial do W3Schools](https://www.w3schools.com/html/)\n",
            "* [Introdução ao HTML da Mozilla Developer Network](https://developer.mozilla.org/pt-BR/docs/Learn/HTML/Introduction_to_HTML)\n",
            "* [Curso de HTML Gratuito da Codecademy](https://www.codecademy.com/learn/learn-html)\n",
            "\n",
            "**Dicas para Iniciantes**\n",
            "\n",
            "* Pratique regularmente escrevendo código HTML.\n",
            "* Use um editor de código ou IDE para facilitar a escrita e a depuração.\n",
            "* Valide seu código HTML usando um validador online.\n",
            "* Procure ajuda em fóruns ou comunidades online se tiver dúvidas. \n",
            "\n",
            "\n",
            "\n",
            "\n",
            "O que você deseja fazer agora? 2\n",
            "\n",
            "\n",
            "Qual a sua dúvida? O que é CSS?\n",
            "\n",
            "Resposta:  CSS (Cascading Style Sheets) é uma linguagem de folha de estilo usada para descrever a apresentação de um documento HTML ou XML. Ele permite que os desenvolvedores da Web controlem o layout, a fonte, as cores e outros aspectos visuais de uma página da Web. \n",
            "\n",
            "\n",
            "O que você deseja fazer agora? 3\n",
            "\n",
            "Informe o conteúdo que você deseja praticar: HTML e CSS\n",
            "\n",
            "Qual a quantidade de questões que você deseja praticar? 4\n",
            "\n",
            "Qual o nível de dificuldade do exercício que você deseja praticar? (Fácil - Médio - Difícil? Fácil\n",
            "\n",
            "\n",
            "---Segue a sua Lista de Exercícios----\n",
            "\n",
            " **Exercícios HTML e CSS Fácil**\n",
            "\n",
            "**Questão 1:**\n",
            "Crie uma página HTML simples que contenha um título, um parágrafo e uma lista não ordenada com 3 itens.\n",
            "\n",
            "**Questão 2:**\n",
            "Adicione estilos CSS à página HTML da Questão 1 para definir a cor do título como vermelho, o tamanho da fonte do parágrafo como 16px e a cor de fundo da lista como azul claro.\n",
            "\n",
            "**Questão 3:**\n",
            "Crie uma página HTML com uma tabela que tenha 2 linhas e 3 colunas. Preencha as células da tabela com dados de exemplo.\n",
            "\n",
            "**Questão 4:**\n",
            "Adicione estilos CSS à página HTML da Questão 3 para definir a largura da tabela como 500px, a cor da borda da tabela como preto e o alinhamento do texto nas células como centralizado. \n",
            "\n",
            "-----Bons Estudos!-----\n",
            "\n",
            "\n",
            "\n",
            "O que você deseja fazer agora? 0\n",
            "\n",
            "Obrigado por usar o Chatbot Educacional. Até mais e bons estudos!\n"
          ]
        }
      ]
    }
  ]
}